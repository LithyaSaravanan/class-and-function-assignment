{
 "cells": [
  {
   "cell_type": "code",
   "execution_count": 1,
   "id": "cdcc0a2f-350d-492f-8d39-8bc7d3ccda77",
   "metadata": {},
   "outputs": [
    {
     "name": "stdout",
     "output_type": "stream",
     "text": [
      "Sub-fields in AI are:\n",
      "Machine Learning\n",
      "Neural Networks\n",
      "Computer Vision\n",
      "Robotics\n",
      "Speech Processing\n",
      "Natural Language Processing\n"
     ]
    }
   ],
   "source": [
    "class AISubFields:\n",
    "    def __init__(self, sub_fields):\n",
    "        self.sub_fields = sub_fields\n",
    "    \n",
    "    def list_sub_fields(self):\n",
    "        print(\"Sub-fields in AI are:\")\n",
    "        for field in self.sub_fields:\n",
    "            print(field)\n",
    "sub_fields_list = [\n",
    "    \"Machine Learning\",\n",
    "    \"Neural Networks\",\n",
    "    \"Computer Vision\",\n",
    "    \"Robotics\",\n",
    "    \"Speech Processing\",\n",
    "    \"Natural Language Processing\"]\n",
    "\n",
    "ai_sub_fields = AISubFields(sub_fields_list)\n",
    "ai_sub_fields.list_sub_fields()"
   ]
  },
  {
   "cell_type": "code",
   "execution_count": 2,
   "id": "44f61488-957a-4d48-8e54-8c897f2e548d",
   "metadata": {},
   "outputs": [
    {
     "name": "stdin",
     "output_type": "stream",
     "text": [
      "Enter a number:  52452\n"
     ]
    },
    {
     "name": "stdout",
     "output_type": "stream",
     "text": [
      "52452 is Even number.\n"
     ]
    }
   ],
   "source": [
    "def odd_even(num):\n",
    "    if num % 2 == 0:\n",
    "        return \"Even\"\n",
    "    else:\n",
    "        return \"Odd\"\n",
    "\n",
    "def main():\n",
    "    num = int(input(\"Enter a number: \"))\n",
    "    result = odd_even(num)\n",
    "    print(f\"{num} is Even number.\")\n",
    "\n",
    "if __name__ == \"__main__\":\n",
    "    main()"
   ]
  },
  {
   "cell_type": "code",
   "execution_count": 6,
   "id": "b28ad979-961a-4fb3-bade-7608ea71b147",
   "metadata": {},
   "outputs": [
    {
     "name": "stdin",
     "output_type": "stream",
     "text": [
      "Your Gender (Male/Female):  Male\n",
      "Your Age:  20\n"
     ]
    },
    {
     "name": "stdout",
     "output_type": "stream",
     "text": [
      "Not eligible\n"
     ]
    }
   ],
   "source": [
    "def Eligible():\n",
    "    gender = input(\"Your Gender (Male/Female): \").lower()\n",
    "    age = int(input(\"Your Age: \"))\n",
    "    \n",
    "    if gender == \"male\" and age >= 21:\n",
    "        print(\"Eligible\")\n",
    "    elif gender == \"female\" and age >= 18:\n",
    "        print(\"Eligible for marriage\")\n",
    "    else:\n",
    "        print(\"Not eligible\")\n",
    "Eligible()\n"
   ]
  },
  {
   "cell_type": "code",
   "execution_count": 2,
   "id": "91dffd14-60e6-4555-91a8-c44dd505dce4",
   "metadata": {},
   "outputs": [
    {
     "name": "stdin",
     "output_type": "stream",
     "text": [
      "Enter marks for subject 1:  98\n",
      "Enter marks for subject 2:  87\n",
      "Enter marks for subject 3:  95\n",
      "Enter marks for subject 4:  95\n",
      "Enter marks for subject 5:  93\n"
     ]
    },
    {
     "name": "stdout",
     "output_type": "stream",
     "text": [
      "Total marks obtained: 468\n",
      "Percentage: 93.60%\n"
     ]
    }
   ],
   "source": [
    "def calculate_percentage(total_marks, obtained_marks):\n",
    "    percentage = (obtained_marks / total_marks) * 100\n",
    "    return percentage\n",
    "\n",
    "def main():\n",
    "    sub1 = int(input(\"Enter marks for subject 1: \"))\n",
    "    sub2 = int(input(\"Enter marks for subject 2: \"))\n",
    "    sub3 = int(input(\"Enter marks for subject 3: \"))\n",
    "    sub4 = int(input(\"Enter marks for subject 4: \"))\n",
    "    sub5 = int(input(\"Enter marks for subject 5: \"))\n",
    "\n",
    "    total_marks = 500  # Assuming total marks for all subjects is 500\n",
    "    obtained_marks = sub1 + sub2 + sub3 + sub4 + sub5\n",
    "\n",
    "    percentage = calculate_percentage(total_marks, obtained_marks)\n",
    "\n",
    "    print(\"Total marks obtained:\", obtained_marks)\n",
    "    print(\"Percentage: {:.2f}%\".format(percentage))\n",
    "\n",
    "if __name__ == \"__main__\":\n",
    "    main()\n",
    "\n"
   ]
  },
  {
   "cell_type": "code",
   "execution_count": 4,
   "id": "b0ebc92c-fa1c-4d5b-9d5b-5bbade6f3be5",
   "metadata": {},
   "outputs": [
    {
     "name": "stdin",
     "output_type": "stream",
     "text": [
      "Enter height of the triangle:  32\n",
      "Enter breadth of the triangle:  34\n"
     ]
    },
    {
     "name": "stdout",
     "output_type": "stream",
     "text": [
      "Area of the triangle: 544.0\n"
     ]
    },
    {
     "name": "stdin",
     "output_type": "stream",
     "text": [
      "Enter height1 of the triangle:  2\n",
      "Enter height2 of the triangle:  4\n",
      "Enter breadth of the triangle:  4\n"
     ]
    },
    {
     "name": "stdout",
     "output_type": "stream",
     "text": [
      "Perimeter of the triangle: 10.0\n"
     ]
    }
   ],
   "source": [
    "class Triangle:\n",
    "    def __init__(self, height, breadth):\n",
    "        self.height = height\n",
    "        self.breadth = breadth\n",
    "\n",
    "    def calculate_area(self):\n",
    "        area = (self.height * self.breadth) / 2\n",
    "        return area\n",
    "\n",
    "    @staticmethod\n",
    "    def calculate_perimeter(height1, height2, breadth):\n",
    "        perimeter = height1 + height2 + breadth\n",
    "        return perimeter\n",
    "\n",
    "def main():\n",
    "    height = float(input(\"Enter height of the triangle: \"))\n",
    "    breadth = float(input(\"Enter breadth of the triangle: \"))\n",
    "\n",
    "    triangle = Triangle(height, breadth)\n",
    "\n",
    "    area = triangle.calculate_area()\n",
    "    print(\"Area of the triangle:\", area)\n",
    "\n",
    "    height1 = float(input(\"Enter height1 of the triangle: \"))\n",
    "    height2 = float(input(\"Enter height2 of the triangle: \"))\n",
    "    breadth = float(input(\"Enter breadth of the triangle: \"))\n",
    "\n",
    "    perimeter = Triangle.calculate_perimeter(height1, height2, breadth)\n",
    "    print(\"Perimeter of the triangle:\", perimeter)\n",
    "\n",
    "if __name__ == \"__main__\":\n",
    "    main()"
   ]
  },
  {
   "cell_type": "code",
   "execution_count": null,
   "id": "01e6a4ee-2c1a-4ea4-80bc-3c090b1f75cf",
   "metadata": {},
   "outputs": [],
   "source": []
  }
 ],
 "metadata": {
  "kernelspec": {
   "display_name": "Python 3 (ipykernel)",
   "language": "python",
   "name": "python3"
  },
  "language_info": {
   "codemirror_mode": {
    "name": "ipython",
    "version": 3
   },
   "file_extension": ".py",
   "mimetype": "text/x-python",
   "name": "python",
   "nbconvert_exporter": "python",
   "pygments_lexer": "ipython3",
   "version": "3.11.7"
  }
 },
 "nbformat": 4,
 "nbformat_minor": 5
}
